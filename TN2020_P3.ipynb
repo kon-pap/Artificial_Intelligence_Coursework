{
  "nbformat": 4,
  "nbformat_minor": 0,
  "metadata": {
    "colab": {
      "name": "ΤΝ2020-P3-co.ipynb",
      "provenance": [],
      "collapsed_sections": []
    },
    "kernelspec": {
      "name": "python3",
      "display_name": "Python 3"
    }
  },
  "cells": [
    {
      "cell_type": "markdown",
      "metadata": {
        "id": "heT7siZWZjQD"
      },
      "source": [
        "# Τεχνητή Νοημοσύνη: Εργαστηριακή Άσκηση 3 \n",
        "Στην άσκηση αυτή θα υλοποιηθούν διάφοροι (σχετικά απλοί) αλγόριθμοι μηχανικής μάθησης για την αναγνώριση ψηφίων από εικόνα στο dataset MNIST. Συγκεκριμένα, θα δίνονται δύο σύνολα δεδομένων $$Ζ_{train}=\\{(x_1,y_1),\\dots,(x_n,y_n)\\}$$ $$Z_{test} = \\{(x_j,y_j),\\dots{,(x_k,y_k)}\\}$$ όπου κάθε $x_i\\in{\\mathbb{R}^p}$ είναι ένα διάνυσμα με τα pixels της κάθε εικόνας και $y_i$ είναι η ετικέτα της εικόνας - ένας ακέραιος στο $[0,9]$. Σε κάθε περίπτωση καλείστε να σχεδιάσετε έναν ταξινομητή, δηλαδή μια απεικόνιση $$f:\\mathbb{R}^p\\rightarrow{[0,9]}$$\n",
        "\n",
        "## 1ο Μέρος: Αξιολόγηση\n",
        "Στο πρώτο μέρος της άσκησης θα υλοποιηθούν συναρτήσεις που θα χρησιμοποιηθούν για την αξιολόγηση των ταξινομητών που θα υλοποιηθούν στα επόμενα μέρη.\n",
        "\n",
        "## 2ο Μέρος: ΚΝΝ\n",
        "Στο δεύτερο μέρος της άσκησης θα υλοποιήσετε τον αλγόριθμο KNN για ταξινόμηση. Υπενθυμίζεται από τις διαφάνειες το πλάνο σχεδιασμού για τον ταξινομητή k κοντινότερων γειτόνων:\n",
        "- Αποθηκεύουμε όλα τα δεδομένα ($Z_{train}$) στη μνήμη\n",
        "  - Τα δεδομένα μπορούν αποθηκευτούν σε έναν πίνακα $n\\times{p}$ με χρήση του numpy\n",
        "- Συγκρίνουμε την είσοδο με τα δεδομένα και βρίσκουμε τα k κοντινότερα ($k<n$) με βάση κάποια απόσταση.\n",
        "  - Όταν μας δίνεται μια \"φρέσκια\" εικόνα ως διάνυσμα από pixels $x_i$ χρειαζόμαστε μια συνάρτηση που να υπολογίζει την απόσταση $d(x_i,x_j)$, όπου $x_j$ είναι το διάνυσμα που αντιστιχεί στα pixels μιας εικόνας από τα δεδομένα εκπαίδευσης. Θα πειραματιστείτε με την ευκλείδια απόσταση και την απόσταση συνημιτόνου. Στη συνέχεια ταξινομούνται τα δεδομένα εκπαίδευσης ως προς την απόστασή τους από το $x_i$ και επιλέγονται τα $k$ κοντινότερα\n",
        "- Δίνουμε στην έξοδο την κλάση στην οποία ανήκει η πλειοψηφία των k κοντινότερων δεδομένων.\n",
        "\n",
        "Αφού κατασκευαστεί ο ταξινομητής θα αξιολογήσετε την επίδοσή του στις 100 πρώτες εικόνες του $Z_{test}$ για κάποιες τιμές του k που θα επιλέξετε εσείς, ξεκινώντας από $k=1$.\n",
        "\n",
        "Στην πράξη πολύ σπάνια θα χρειαστεί να υλοποιήσετε έναν αλγόριθμο μηχανικής μάθησης από το μηδέν, αφού υπάρχουν έτοιμες υλοποιήσεις, π.χ. σε πακέτα της python, οι οποίες είναι βελτιστοποιημένες και εύχρηστες. Το τελευταίο ζητούμενο  στο 1ο μέρος είναι να επαναλάβετε το παραπάνω πείραμα με την έτοιμη υλοποίηση του KNN που παρέχει η βιβλιοθήκη sklearn. Καλείστε να συγκρίνετε τα αποτελέσματα και τους χρόνους εκτέλεσης.\n",
        "\n",
        "## 3ο Μέρος: Naive Bayes\n",
        "Στο τρίτο μέρος της άσκησης θα υλοποιήσετε τον αλγόριθμο Naive Bayes. Ας θυμηθούμε από τις διαφάνειες:\n",
        "\n",
        "**Υποθέσεις:**\n",
        "- Τα χαρακτηριστικά είναι boolean, δηλαδή παίρνουν δύο τιμές\n",
        "  - Για το συγκεκριμένο πρόβλημα μπορούμε να στρογγυλοποιήσουμε τις τιμές των pixels από το $[0.0,1.0]\\rightarrow{\\{0,1\\}}$\n",
        "- Η πιθανότητα ένα στοιχείο με χαρακτηριστικά x να ανήκει στην κλάση i δίνεται από τον τύπο:\n",
        "$$p(i|x)=\\frac{p(i)\\cdot{\\prod_{k=1}^p}p(x^{(k)}|i)}{\\sum_{j=1}^pp(x^{(k)}|j)}$$\n",
        "- Για να ταξινομήσουμε ένα διάνυσμα χαρακτηρστικών x σε μια κλάση i επιλέγουμε την κλάση που μεγιστοποιεί την παραπάνω πιθανότητα\n",
        "  - Μπορούμε για τη σύγκριση να αγνοήσουμε τον παρονομαστή, αφού για όλες τις κλάσεις θα είναι ίδιος\n",
        "\n",
        "## 4ο Μέρος: Perceptron\n",
        "\n",
        "Στο τέταρτο μέρος της άσκησης θα κατασκευάσετε ένα πολυεπίπεδο νευρωνικό δίκτυο. Ο ταξινομητής αυτός θα εκπαιδευτεί στο να ταξινομεί τις εικόνες του mnist σε μια από τις 10 διαφορετικές κλάσεις (από 0 μέχρι 9). Αρχικά θα υλοποιήσετε το μοντέλο αυτό χρησιμοποιώντας αποκλειστικά την βιβλιοθήκη numpy ενώ στην συνέχεια θα χρησιμοποιήσετε μια έτοιμη κλάση για την κατασκευή του ίδιου μοντέλου.  \n",
        "\n",
        "Ας θυμηθούμε από τις διαφάνειες: \n",
        "\n",
        "Κάθε MLP αποτελείται από επίπεδα όπου το κάθε ένα από αυτά χωρίζεται στα παρακάτω μέρη: \n",
        "\n",
        "$$ z(x) = w^Τx + b $$ \n",
        "$$ f(x) = a(z(x))$$ \n",
        "\n",
        "όπου $w$, $b$ είναι τα βάρη του επιπέδου.  Η έξοδος z(x)είναι η απόκριση κάθε νευρώνα πριν την συνάρτηση ενεργοποίησης ενώ η f(x) μετά.  Κάθε επίπεδο συνδέεται με ένα επόμενο του οποίου η είσοδος του αποτελεί την έξοδο (με την συνάρτηση ενεργοποίησης) του προηγούμενου. \n",
        "\n",
        "Στο μέρος αυτό καλείστε να συμπληρώσετε σε ορισμένα σημεία κώδικα ώστε να επιτυγχάνεται αυτή η λειτουργικότητα. Στην συνέχεια θα υλοποιήσετε το ίδιο ακριβώς μοντέλο χρησιμοποιώντας όμως μια έτοιμη βιβλιοθήκη και θα συγκρίνετε τα αποτελέσματά τους (χρόνο, σκορ κ.α.). "
      ]
    },
    {
      "cell_type": "markdown",
      "metadata": {
        "id": "Rvm0mywsZmit"
      },
      "source": [
        "# 1ο Μέρος: Αξιολόγηση\n",
        "\n",
        "Παρακάτω σας δίνεται η κλάση Evaluate, η οποία υπολογίζει διάφορες μετρικές στη μέθοδο get_metrics, εντοπίζει αντικείμενα που ταξινομήθηκαν λάθος και τα εμφανίζει (μέθοδος get_sample_of_wrong) και υπολογίζει και τον πίνακα σύγχυσης (confusion matrix) όπου οπτικοποιούνται ανά κατηγορία οι προβλέψεις του ταξινομητή.\n",
        "\n",
        "Για το μέρος αυτό καλείστε να υλοποιήσετε στη μέθοδο my_accuracy τη μετρική accuracy, η οποία ορίζεται ως:\n",
        "$$accuracy = \\frac{\\#σωστών\\_προβλέψεων}{\\#δεδομένα}$$\n",
        "\n"
      ]
    },
    {
      "cell_type": "code",
      "metadata": {
        "id": "WlTj48uFZhyJ"
      },
      "source": [
        "from sklearn.metrics import confusion_matrix, f1_score, precision_score, recall_score\n",
        "from matplotlib import pyplot as plt\n",
        "import numpy as np\n",
        "import random\n",
        "\n",
        "class Evaluate:\n",
        "    def __init__(self,y_true,y_pred,x):\n",
        "      self.y_true = y_true\n",
        "      self.y_pred = y_pred\n",
        "      self.x = x\n",
        "\n",
        "    def my_accuracy(self):\n",
        "      y_true = self.y_true\n",
        "      y_pred = self.y_pred\n",
        "      \n",
        "      ##################\n",
        "      ## Your code below\n",
        "      acc=1\n",
        "      ## Your code above\n",
        "      ##################\n",
        "      return acc\n",
        "\n",
        "    def get_metrics(self):\n",
        "        precision = precision_score(self.y_true, self.y_pred, average = \"macro\")\n",
        "        recall = recall_score(self.y_true, self.y_pred, average = \"macro\")\n",
        "        f1 = f1_score(self.y_true, self.y_pred, average = \"macro\")\n",
        "        results = {\"precision\" : precision, \"recall\": recall, \"f1\": f1,\"accuracy\":self.my_accuracy()}\n",
        "        return results   \n",
        "    \n",
        "    def confusion_matrix(self):\n",
        "        cm = confusion_matrix(self.y_true, self.y_pred)\n",
        "        return cm \n",
        "\n",
        "    def get_sample_of_wrong(self, rows = 5, lines = 4):\n",
        "        wrong_indexes = [index for index in range(len(self.y_true)) if self.y_true[index] != self.y_pred[index]]\n",
        "        plt.figure(figsize=(10, 10))\n",
        "\n",
        "        random.shuffle(wrong_indexes)\n",
        "        for i, index in enumerate(wrong_indexes[: rows*lines]):\n",
        "            plt.subplot(rows, lines, i + 1)\n",
        "            image = self.x[index]\n",
        "            plt.imshow(image.reshape((28, 28)))\n",
        "            plt.title(\"Real: {}, Pred: {}\".format(self.y_true[index], self.y_pred[index]))\n",
        "            plt.axis('off')\n",
        "\n",
        "    def get_evaluation_report(self):\n",
        "       metrics = self.get_metrics()\n",
        "       for m in metrics:\n",
        "         print(m+' : '+str(metrics[m]))\n",
        "       cm = self.confusion_matrix()\n",
        "       print(\"Confusion matrix: \")\n",
        "       print(cm)\n",
        "       print(\"Some images with wrong predictions\")\n",
        "       self.get_sample_of_wrong()"
      ],
      "execution_count": null,
      "outputs": []
    },
    {
      "cell_type": "markdown",
      "metadata": {
        "id": "3qcSvLy6ZpzB"
      },
      "source": [
        "Παράδειγμα χρήσης της κλάσης. Κανονικά στο x θα υπάρχουν οι εικόνες από το dataset"
      ]
    },
    {
      "cell_type": "code",
      "metadata": {
        "colab": {
          "base_uri": "https://localhost:8080/"
        },
        "id": "S5hRZ9L1ZoNJ",
        "outputId": "554d37b0-fb7d-417e-8634-c8e4acb7757a"
      },
      "source": [
        "y_true = [1,0,2,0,0,1,1,0]\n",
        "y_pred = [0,0,2,0,1,1,0,0]\n",
        "x = np.random.rand(8,28*28)\n",
        "\n",
        "eval = Evaluate(y_true,y_pred,x)\n",
        "eval.get_evaluation_report()"
      ],
      "execution_count": null,
      "outputs": [
        {
          "output_type": "stream",
          "text": [
            "precision : 0.7000000000000001\n",
            "recall : 0.6944444444444443\n",
            "f1 : 0.6888888888888888\n",
            "accuracy : 1\n",
            "Confusion matrix: \n",
            "[[3 1 0]\n",
            " [2 1 0]\n",
            " [0 0 1]]\n",
            "Some images with wrong predictions\n"
          ],
          "name": "stdout"
        },
        {
          "output_type": "display_data",
          "data": {
            "image/png": "[encoded data removed]",
            "text/plain": [
              "<Figure size 720x720 with 3 Axes>"
            ]
          },
          "metadata": {
            "tags": [],
            "needs_background": "light"
          }
        }
      ]
    },
    {
      "cell_type": "markdown",
      "metadata": {
        "id": "h9Sex6aEZtt9"
      },
      "source": [
        "# Dataset\n",
        "\n",
        "To MNIST είναι από τα πιο διαδεδομένα σύνολα δεδομένων στη μηχανική μάθηση. Για όσους δουλεύουν στο Google Colab, το κελί που ακολουθεί φορτώνει τα δεδομένα εκπαίδευσης σε έναν πίνακα x_train με τις ετικέτες των δεδομένων στη λίστα y_train, και τα testing δεδομένα αντίστοιχα στα x_test και y_test.\n",
        "\n",
        "\n",
        "Για όσους δεν δουλεύουν στο colab μπορούν να αντικαταστήσουν τις δύο πρώτες γραμμές του κελιού (train_dset = ... και test_dset = ... ) με τον παρακάτω κώδικα:\n",
        "```\n",
        "mnist_dataframe = pd.read_csv(\n",
        "  \"https://download.mlcc.google.com/mledu-datasets/mnist_train_small.csv\",\n",
        "  sep=\",\",\n",
        "  header=None)\n",
        "mnist_dataframe = mnist_dataframe.head(10000)\n",
        "\n",
        "mnist_dataframe = mnist_dataframe.reindex(np.random.permutation(mnist_dataframe.index))\n",
        "train_dset = mnist_dataframe[:7500]\n",
        "test_dset = mnist_dataframe[7500:10000]\n",
        "```"
      ]
    },
    {
      "cell_type": "code",
      "metadata": {
        "id": "YvbVV9isZrwZ"
      },
      "source": [
        "import pandas as pd\n",
        "import numpy as np\n",
        "from matplotlib import pyplot as plt\n",
        "\n",
        "train_dset = pd.read_csv('/content/sample_data/mnist_train_small.csv',header=None)\n",
        "test_dset = pd.read_csv('/content/sample_data/mnist_test.csv',header=None)\n",
        "## From https://colab.research.google.com/notebooks/mlcc/multi-class_classification_of_handwritten_digits.ipynb#scrollTo=JfFWWvMWDFrR\n",
        "def parse_labels_and_features(dataset):\n",
        "  \"\"\"Extracts labels and features.\n",
        "  \n",
        "  This is a good place to scale or transform the features if needed.\n",
        "  \n",
        "  Args:\n",
        "    dataset: A Pandas `Dataframe`, containing the label on the first column and\n",
        "      monochrome pixel values on the remaining columns, in row major order.\n",
        "  Returns:\n",
        "    A `tuple` `(labels, features)`:\n",
        "      labels: A Pandas `Series`.\n",
        "      features: A Pandas `DataFrame`.\n",
        "  \"\"\"\n",
        "  labels = dataset[0]\n",
        "\n",
        "  # DataFrame.loc index ranges are inclusive at both ends.\n",
        "  features = dataset.loc[:,1:784]\n",
        "  # Scale the data to [0, 1] by dividing out the max value, 255.\n",
        "  features = features / 255\n",
        "\n",
        "  return labels, np.array(features)\n",
        "\n",
        "def show_image(features):\n",
        "  img = features.reshape((28,28))\n",
        "  plt.imshow(img)\n",
        "  plt.show()\n",
        "\n",
        "y_train,x_train = parse_labels_and_features(train_dset)\n",
        "y_test,x_test = parse_labels_and_features(test_dset)"
      ],
      "execution_count": null,
      "outputs": []
    },
    {
      "cell_type": "markdown",
      "metadata": {
        "id": "B4MX_WMeZwRu"
      },
      "source": [
        "Ποια είναι η μορφή των δεδομένων για μια εικόνα;"
      ]
    },
    {
      "cell_type": "code",
      "metadata": {
        "colab": {
          "base_uri": "https://localhost:8080/"
        },
        "id": "FhDzmllUZvyp",
        "outputId": "bfb0917c-624c-40a3-8d92-8313b8a2de92"
      },
      "source": [
        "print(\"Shape of an image: \"+str(x_train[0].shape))\n",
        "print(\"Max value of pixel: \"+str(np.max(x_train[0])))"
      ],
      "execution_count": null,
      "outputs": [
        {
          "output_type": "stream",
          "text": [
            "Shape of an image: (784,)\n",
            "Max value of pixel: 1.0\n"
          ],
          "name": "stdout"
        }
      ]
    },
    {
      "cell_type": "markdown",
      "metadata": {
        "id": "B9B0hgyBZ3Vm"
      },
      "source": [
        "Φορτώνουμε μια τυχαία εικόνα και την εμφανίζουμε, μαζί με την ετικέτα της"
      ]
    },
    {
      "cell_type": "code",
      "metadata": {
        "colab": {
          "base_uri": "https://localhost:8080/",
          "height": 283
        },
        "id": "r3eLiC1nZ00c",
        "outputId": "88a7e9f8-d8e3-4f43-af3e-a85f471bb8c6"
      },
      "source": [
        "i = np.random.randint(0,x_train.shape[0])\n",
        "show_image(x_train[i])\n",
        "print(\"Label = \" +str(y_train[i]))"
      ],
      "execution_count": null,
      "outputs": [
        {
          "output_type": "display_data",
          "data": {
            "image/png": "[encoded data removed]",
            "text/plain": [
              "<Figure size 432x288 with 1 Axes>"
            ]
          },
          "metadata": {
            "tags": [],
            "needs_background": "light"
          }
        },
        {
          "output_type": "stream",
          "text": [
            "Label = 7\n"
          ],
          "name": "stdout"
        }
      ]
    },
    {
      "cell_type": "markdown",
      "metadata": {
        "id": "bYMke4uRZ8Ae"
      },
      "source": [
        "# 2o Μέρος: Υλοποίηση KNN\n",
        "\n",
        " Σας δίνεται η κλάση KNN η οποία αρχικοποιείται με ένα σύνολο από δεδομένα x, ετικέτες y και το k για τον αλγόριθμο. Καλείστε να συμπληρώσετε τον κώδικα που λείπει στις μεθόδους distance, get_knn και classify.\n",
        "\n",
        "Η απόσταση συνημιτόνου μεταξύ δύο διανυσμάτων u,v ορίζεται ως: $$d(u,v)= 1 - \\frac{u\\cdot{v}}{||u||_2||v||_2}$$"
      ]
    },
    {
      "cell_type": "code",
      "metadata": {
        "id": "EMPfT1jTZ51F"
      },
      "source": [
        "## Simple KNN\n",
        "\n",
        "class KNN:\n",
        "  def __init__(self,x,y,k,distance=\"euclidian\"):\n",
        "    self.x = x\n",
        "    self.y = y\n",
        "    self.k = k\n",
        "    self.distance = distance\n",
        "  \n",
        "  \n",
        "  ## Compute the distance between the two vectors img1 and img2\n",
        "  # hint: use np.linalg.norm for eucledian\n",
        "  # hint: use equation given above for cosine\n",
        "  def get_distance(self,img1,img2):\n",
        "    if self.distance=='euclidian':\n",
        "      ##################\n",
        "      ## Your code below\n",
        "      dist = 1 #???\n",
        "      ## Your code above\n",
        "      ##################\n",
        "    elif self.distance=='cosine':\n",
        "      ##################\n",
        "      ## Your code below\n",
        "      dist = 1 #???\n",
        "      ## Your code above\n",
        "      ##################\n",
        "      pass\n",
        "\n",
        "    return dist\n",
        "\n",
        "\n",
        "  ## Given an image as a vector, returns indexes of k nearest neighbors\n",
        "  def get_knn(self,img):\n",
        "    distances = list()\n",
        "    x = self.x\n",
        "    k = self.k\n",
        "    \n",
        "    ##################\n",
        "    ## Your code below - populate the distances list\n",
        "    # hint: you can use a for loop\n",
        "    \n",
        "\n",
        "    ## Your code above\n",
        "    ##################\n",
        "\n",
        "    # Sort distances, and return the indexes of k first elements\n",
        "    ans_indexes = np.argsort(distances)[:k]\n",
        "    return ans_indexes\n",
        "\n",
        "\n",
        "  ## Given an image as a vector, classify it according to KNN\n",
        "  # hint: we have a list of k labels and want to return the most common one\n",
        "  def classify(self,img):\n",
        "    y = self.y\n",
        "    nn_labels = [y[i] for i in self.get_knn(img)]\n",
        "    \n",
        "    ##################\n",
        "    ## Your code below\n",
        "    \n",
        "    prediction = 1 #???\n",
        "    ## Your code above\n",
        "    ###################\n",
        "    return prediction\n",
        "\n",
        "\n",
        "knn = KNN(x_train,y_train,k=5,distance='euclidian')"
      ],
      "execution_count": null,
      "outputs": []
    },
    {
      "cell_type": "markdown",
      "metadata": {
        "id": "B8-o5tn3aH0-"
      },
      "source": [
        "Τώρα που είναι έτοιμος ο ταξινομητής ας δούμε τι προβλέπει σε μεμονομένες εικόνες"
      ]
    },
    {
      "cell_type": "code",
      "metadata": {
        "colab": {
          "base_uri": "https://localhost:8080/",
          "height": 302
        },
        "id": "GTj_vqD5Z-Ex",
        "outputId": "fcf9d36e-776a-4aea-a967-88c0bead8f7e"
      },
      "source": [
        "img = x_test[np.random.randint(0,x_test.shape[0])]\n",
        "print(\"Input image: \")\n",
        "show_image(img)\n",
        "print('Prediction : '+str(knn.classify(img)))"
      ],
      "execution_count": null,
      "outputs": [
        {
          "output_type": "stream",
          "text": [
            "Input image: \n"
          ],
          "name": "stdout"
        },
        {
          "output_type": "display_data",
          "data": {
            "image/png": "[encoded data removed]",
            "text/plain": [
              "<Figure size 432x288 with 1 Axes>"
            ]
          },
          "metadata": {
            "tags": [],
            "needs_background": "light"
          }
        },
        {
          "output_type": "stream",
          "text": [
            "Prediction : 1\n"
          ],
          "name": "stdout"
        }
      ]
    },
    {
      "cell_type": "markdown",
      "metadata": {
        "id": "XCiEi1UUaLzE"
      },
      "source": [
        "## Αξιολόγηση του KNN"
      ]
    },
    {
      "cell_type": "code",
      "metadata": {
        "id": "tKw0oa1jaJei"
      },
      "source": [
        "## Παίρνουμε όλες τις προβλέψεις στο test set (πρώτες 100 εικόνες)\n",
        "## ..υπομονή μερικά λεπτά\n",
        "preds = [knn.classify(x_test[i]) for i in range(100)]\n",
        "labels = [y_test[i] for i in range(100)]"
      ],
      "execution_count": null,
      "outputs": []
    },
    {
      "cell_type": "code",
      "metadata": {
        "colab": {
          "base_uri": "https://localhost:8080/",
          "height": 942
        },
        "id": "yNVygiKCaNag",
        "outputId": "9a507a75-3c40-4507-8fdd-f0912c4a16a9"
      },
      "source": [
        "eval = Evaluate(labels,preds,x_test[:100])\n",
        "eval.get_evaluation_report()"
      ],
      "execution_count": null,
      "outputs": [
        {
          "output_type": "stream",
          "text": [
            "/usr/local/lib/python3.6/dist-packages/sklearn/metrics/_classification.py:1272: UndefinedMetricWarning: Precision is ill-defined and being set to 0.0 in labels with no predicted samples. Use `zero_division` parameter to control this behavior.\n",
            "  _warn_prf(average, modifier, msg_start, len(result))\n"
          ],
          "name": "stderr"
        },
        {
          "output_type": "stream",
          "text": [
            "precision : 0.014000000000000002\n",
            "recall : 0.1\n",
            "f1 : 0.02456140350877193\n",
            "accuracy : 1\n",
            "Confusion matrix: \n",
            "[[ 0  8  0  0  0  0  0  0  0  0]\n",
            " [ 0 14  0  0  0  0  0  0  0  0]\n",
            " [ 0  8  0  0  0  0  0  0  0  0]\n",
            " [ 0 11  0  0  0  0  0  0  0  0]\n",
            " [ 0 14  0  0  0  0  0  0  0  0]\n",
            " [ 0  7  0  0  0  0  0  0  0  0]\n",
            " [ 0 10  0  0  0  0  0  0  0  0]\n",
            " [ 0 15  0  0  0  0  0  0  0  0]\n",
            " [ 0  2  0  0  0  0  0  0  0  0]\n",
            " [ 0 11  0  0  0  0  0  0  0  0]]\n",
            "Some images with wrong predictions\n"
          ],
          "name": "stdout"
        },
        {
          "output_type": "display_data",
          "data": {
            "image/png": "[encoded data removed]",
            "text/plain": [
              "<Figure size 720x720 with 20 Axes>"
            ]
          },
          "metadata": {
            "tags": [],
            "needs_background": "light"
          }
        }
      ]
    },
    {
      "cell_type": "markdown",
      "metadata": {
        "id": "V7LP247HaU6m"
      },
      "source": [
        "## Έτοιμος ΚΝΝ classifier\n",
        "\n",
        "Όπως και με τους περισσότερους αλγορίθμους μηχανικής μάθησης, υπάρχουν έτοιμες βελτιστοποιημένες υλοποιήσεις. Παρακάτω δείχνουμε ένα παράδειγμα χρήσης του ταξινομητή ΚΝΝ που παρέχει η βιβλιοθήκη sklearn: [documentation](https://scikit-learn.org/stable/modules/generated/sklearn.neighbors.KNeighborsClassifier.html)"
      ]
    },
    {
      "cell_type": "code",
      "metadata": {
        "colab": {
          "base_uri": "https://localhost:8080/",
          "height": 435
        },
        "id": "Os0WCL-QaOnr",
        "outputId": "c0f40500-e039-4373-da6e-41cefd2f8d55"
      },
      "source": [
        "from sklearn.neighbors import KNeighborsClassifier\n",
        "\n",
        "k = 5\n",
        "knc = KNeighborsClassifier(n_neighbors=k)\n",
        "knc.fit(x_train, y_train)\n",
        "y_pred = knc.predict(x_test[:100])\n",
        "\n",
        "eval = Evaluate(y_test[:100],y_pred,x_test[:100])\n",
        "eval.get_evaluation_report()"
      ],
      "execution_count": null,
      "outputs": [
        {
          "output_type": "stream",
          "text": [
            "precision : 0.9749019607843138\n",
            "recall : 0.9568181818181818\n",
            "f1 : 0.962567733990148\n",
            "accuracy : 1\n",
            "Confusion matrix: \n",
            "[[ 8  0  0  0  0  0  0  0  0  0]\n",
            " [ 0 14  0  0  0  0  0  0  0  0]\n",
            " [ 0  1  6  0  0  0  0  1  0  0]\n",
            " [ 0  0  0 11  0  0  0  0  0  0]\n",
            " [ 0  0  0  0 14  0  0  0  0  0]\n",
            " [ 0  0  0  0  0  7  0  0  0  0]\n",
            " [ 0  0  0  0  0  0 10  0  0  0]\n",
            " [ 0  0  0  0  0  0  0 15  0  0]\n",
            " [ 0  0  0  0  0  0  0  0  2  0]\n",
            " [ 0  0  0  0  1  0  0  1  0  9]]\n",
            "Some images with wrong predictions\n"
          ],
          "name": "stdout"
        },
        {
          "output_type": "display_data",
          "data": {
            "image/png": "[encoded data removed]",
            "text/plain": [
              "<Figure size 720x720 with 4 Axes>"
            ]
          },
          "metadata": {
            "tags": [],
            "needs_background": "light"
          }
        }
      ]
    },
    {
      "cell_type": "markdown",
      "metadata": {
        "id": "RcUBX2XMaZUd"
      },
      "source": [
        "## Σύκγριση υλοποιήσεων\n",
        "\n",
        "Στα παρακάτω κελιά πειραματιστείτε με τις δύο υλοποιήσεις (τη δική σας και την έτοιμη). Βεβαιωθείτε πως προκύπτουν τα ίδια αποτελέσματα για διάφορες τιμές του k (για ευκλείδια απόσταση) και μετρήστε τους χρόνους εκτέλεσης."
      ]
    },
    {
      "cell_type": "code",
      "metadata": {
        "colab": {
          "base_uri": "https://localhost:8080/"
        },
        "id": "8Yz_Y_cpaWor",
        "outputId": "5fe39aee-371c-4529-8e06-225fe2f6f057"
      },
      "source": [
        "%%time\n",
        "knn = KNN(x_train,y_train,k=5,distance='euclidian')\n",
        "preds = [knn.classify(x_test[i]) for i in range(100)]"
      ],
      "execution_count": null,
      "outputs": [
        {
          "output_type": "stream",
          "text": [
            "CPU times: user 1.4 ms, sys: 0 ns, total: 1.4 ms\n",
            "Wall time: 1.42 ms\n"
          ],
          "name": "stdout"
        }
      ]
    },
    {
      "cell_type": "code",
      "metadata": {
        "colab": {
          "base_uri": "https://localhost:8080/"
        },
        "id": "77s6o3ZkabCY",
        "outputId": "0eae47a3-12fb-4fa3-a4fe-5cffa0d60de6"
      },
      "source": [
        "%%time\n",
        "knc = KNeighborsClassifier(n_neighbors=5)\n",
        "knc.fit(x_train, y_train)\n",
        "y_pred = knc.predict(x_test[:100])"
      ],
      "execution_count": null,
      "outputs": [
        {
          "output_type": "stream",
          "text": [
            "CPU times: user 6.5 s, sys: 6.93 ms, total: 6.5 s\n",
            "Wall time: 6.52 s\n"
          ],
          "name": "stdout"
        }
      ]
    },
    {
      "cell_type": "markdown",
      "metadata": {
        "id": "bc9ySKoRaek-"
      },
      "source": [
        "## Σχολιασμός\n",
        "<εδώ γράφετε τυχόν σχόλια και παρατηρήσεις που έχετε στο δευτερο μέρος: παραδοχές, επίδοση, χρόνος εκτέλεσης, επίδραση παραμέτρου k κλπ >"
      ]
    },
    {
      "cell_type": "markdown",
      "metadata": {
        "id": "Xe17UwwLag5Y"
      },
      "source": [
        "# 3ο Μέρος: Naive Bayes\n",
        "\n",
        "Αρχικά στρογγυλοποιούμε τις τιμές των pixels για να παίρνουν διακριτές τιμές στο $\\{0,1\\}$"
      ]
    },
    {
      "cell_type": "code",
      "metadata": {
        "colab": {
          "base_uri": "https://localhost:8080/",
          "height": 265
        },
        "id": "GNbBhsg2ach8",
        "outputId": "6b7497c9-7c5f-44da-9f57-11c5b1163b37"
      },
      "source": [
        "## Στρογγυλοποίηση:\n",
        "x_train_r = np.round(x_train)\n",
        "x_test_r = np.round(x_test)\n",
        "show_image(x_test_r[0])"
      ],
      "execution_count": null,
      "outputs": [
        {
          "output_type": "display_data",
          "data": {
            "image/png": "[encoded data removed]",
            "text/plain": [
              "<Figure size 432x288 with 1 Axes>"
            ]
          },
          "metadata": {
            "tags": [],
            "needs_background": "light"
          }
        }
      ]
    },
    {
      "cell_type": "markdown",
      "metadata": {
        "id": "lFORd6XJakZl"
      },
      "source": [
        "Παρακάτω σας δίνεται η κλάση NaiveBayes που υλοποιεί τον αλγόριθμο. Καλείστε αρχικά να υπολογίσετε την πιθανότητα $p(x^{(k)}|i)$ για διάνυσμα χαρακτηριστκών $x$ και κατηγορία $i$ στη μέθοδο compute_probabilities. Στη συνέχεια θα υπολογίσετε την πιθανότητα $p(i|x)$ στη μέθοδο predict."
      ]
    },
    {
      "cell_type": "code",
      "metadata": {
        "id": "ufKo5f5yaiqH"
      },
      "source": [
        "class NaiveBayes:\n",
        "  def __init__(self,x,y):\n",
        "    self.x = x\n",
        "    self.y = y\n",
        "    ## pC is a vector with the probability of each class\n",
        "    self.pC = np.zeros((10,))\n",
        "    ## pxC is an array with all probabilities p(xi|C)\n",
        "    self.pxC = np.zeros((x.shape[-1],10))\n",
        "    ## Compute the probabilities\n",
        "    self.compute_probabilities()\n",
        "\n",
        "  def compute_probabilities(self):\n",
        "    ## Compute p(C) for each class\n",
        "    for label in self.y:\n",
        "      self.pC[label]+=1\n",
        "    self.pC = self.pC/self.y.shape[0]\n",
        "\n",
        "    ## Compute p(xi|C) for each feature xi and class C\n",
        "    # hint: you can use one or more for loops\n",
        "    ###################\n",
        "    ## Your code below\n",
        "    \n",
        "\n",
        "\n",
        "    \n",
        "    ## Your code above\n",
        "    ##################\n",
        "\n",
        "  def predict(self,x):\n",
        "    ## ~Probability of x belonging to each class\n",
        "    ## (not actucal probability since we ignore denominator)\n",
        "    pcX = np.ones((10,))\n",
        "    for i in range(10):\n",
        "      # hint: We have probabilities p({x_j=1}|i) in self.pxC\n",
        "      # We also need p({x_j=0}|i) for computing p(x|i)\n",
        "      #################\n",
        "      ## Your code below\n",
        "        pass\n",
        "      ## Your code above\n",
        "      ##################\n",
        "    return np.argmax(pcX)"
      ],
      "execution_count": null,
      "outputs": []
    },
    {
      "cell_type": "markdown",
      "metadata": {
        "id": "cO9h_Q8bbAgF"
      },
      "source": [
        "## Αξιολόγηση του Naive Bayes"
      ]
    },
    {
      "cell_type": "code",
      "metadata": {
        "colab": {
          "base_uri": "https://localhost:8080/",
          "height": 942
        },
        "id": "2PzuaP48amDv",
        "outputId": "b8c84bb1-6451-460d-8d22-890188b57361"
      },
      "source": [
        "nb = NaiveBayes(x_train_r,y_train)\n",
        "preds = [ nb.predict(i) for i in x_test_r[:100]]\n",
        "eval = Evaluate(y_test[:100], preds, x_test_r[:100])\n",
        "eval.get_evaluation_report()"
      ],
      "execution_count": null,
      "outputs": [
        {
          "output_type": "stream",
          "text": [
            "/usr/local/lib/python3.6/dist-packages/sklearn/metrics/_classification.py:1272: UndefinedMetricWarning: Precision is ill-defined and being set to 0.0 in labels with no predicted samples. Use `zero_division` parameter to control this behavior.\n",
            "  _warn_prf(average, modifier, msg_start, len(result))\n"
          ],
          "name": "stderr"
        },
        {
          "output_type": "stream",
          "text": [
            "precision : 0.008\n",
            "recall : 0.1\n",
            "f1 : 0.014814814814814814\n",
            "accuracy : 1\n",
            "Confusion matrix: \n",
            "[[ 8  0  0  0  0  0  0  0  0  0]\n",
            " [14  0  0  0  0  0  0  0  0  0]\n",
            " [ 8  0  0  0  0  0  0  0  0  0]\n",
            " [11  0  0  0  0  0  0  0  0  0]\n",
            " [14  0  0  0  0  0  0  0  0  0]\n",
            " [ 7  0  0  0  0  0  0  0  0  0]\n",
            " [10  0  0  0  0  0  0  0  0  0]\n",
            " [15  0  0  0  0  0  0  0  0  0]\n",
            " [ 2  0  0  0  0  0  0  0  0  0]\n",
            " [11  0  0  0  0  0  0  0  0  0]]\n",
            "Some images with wrong predictions\n"
          ],
          "name": "stdout"
        },
        {
          "output_type": "display_data",
          "data": {
            "image/png": "[encoded data removed]",
            "text/plain": [
              "<Figure size 720x720 with 20 Axes>"
            ]
          },
          "metadata": {
            "tags": [],
            "needs_background": "light"
          }
        }
      ]
    },
    {
      "cell_type": "markdown",
      "metadata": {
        "id": "xMUHg-dubFa2"
      },
      "source": [
        "## Έτοιμος Naive Bayes\n",
        "\n",
        "Όπως με τους περισσότερους αλγορίθμους μηχανικής μάθησης, υπάρχουν έτοιμες βελτιστοποιημένες υλοποιήσεις για τον Naive Bayes. Παρακάτω ο Gaussian Naive Bayes από το SKLearn. Σε αντίθεση με τη δική μας υλοποίηση, ο συγκεκριμένος δουλεύει και με συνεχή δεδομένα, αφού πρώτα κάνει την υπόθεση πως κάθε χαρακτηριστικό ακολουθεί κανονική κατανομή: [documentation](https://scikit-learn.org/stable/modules/generated/sklearn.naive_bayes.GaussianNB.html)"
      ]
    },
    {
      "cell_type": "code",
      "metadata": {
        "colab": {
          "base_uri": "https://localhost:8080/",
          "height": 942
        },
        "id": "Lc7CCDfSbCPh",
        "outputId": "f2b390ea-0fbf-4206-b4f9-d0c72caf1b07"
      },
      "source": [
        "from sklearn.naive_bayes import GaussianNB\n",
        "\n",
        "gnb = GaussianNB()\n",
        "y_pred = gnb.fit(x_train, y_train).predict(x_test[:100])\n",
        "\n",
        "eval = Evaluate(y_test[:100], y_pred, x_test[:100])\n",
        "eval.get_evaluation_report()"
      ],
      "execution_count": null,
      "outputs": [
        {
          "output_type": "stream",
          "text": [
            "/usr/local/lib/python3.6/dist-packages/sklearn/metrics/_classification.py:1272: UndefinedMetricWarning: Precision is ill-defined and being set to 0.0 in labels with no predicted samples. Use `zero_division` parameter to control this behavior.\n",
            "  _warn_prf(average, modifier, msg_start, len(result))\n"
          ],
          "name": "stderr"
        },
        {
          "output_type": "stream",
          "text": [
            "precision : 0.5992985558502799\n",
            "recall : 0.5716774891774892\n",
            "f1 : 0.5081873844349185\n",
            "accuracy : 1\n",
            "Confusion matrix: \n",
            "[[ 7  0  0  0  0  0  0  0  0  1]\n",
            " [ 0 14  0  0  0  0  0  0  0  0]\n",
            " [ 3  0  2  0  0  0  2  0  0  1]\n",
            " [ 0  0  1  3  0  0  1  0  5  1]\n",
            " [ 1  1  0  0  4  0  0  0  0  8]\n",
            " [ 2  0  0  0  1  0  0  0  3  1]\n",
            " [ 0  0  0  0  0  0 10  0  0  0]\n",
            " [ 0  0  1  0  0  0  0  8  0  6]\n",
            " [ 1  0  0  0  0  0  0  0  1  0]\n",
            " [ 0  0  0  0  0  0  0  0  0 11]]\n",
            "Some images with wrong predictions\n"
          ],
          "name": "stdout"
        },
        {
          "output_type": "display_data",
          "data": {
            "image/png": "[encoded data removed]",
            "text/plain": [
              "<Figure size 720x720 with 20 Axes>"
            ]
          },
          "metadata": {
            "tags": [],
            "needs_background": "light"
          }
        }
      ]
    },
    {
      "cell_type": "markdown",
      "metadata": {
        "id": "KaecLreybI-3"
      },
      "source": [
        "## Σύγκριση υλοποιήσεων\n",
        "\n",
        "Όμοια με πριν θα συγκρίνετε τα αποτελέσματα και τους χρόνους εκτέλεσης για τις δύο υλοποιήσεις. Για την έτοιμη υλοποίηση του sklearn δοκιμάστε και το σύνολο x_train_r όπου είναι στρογγυλοποιήμενα τα pixels και το σύνολο x_train οπου παίρνουν συνεχείς τιμές. Σχολιάστε την επίδοση σε κάθε περίπτωση. Ποιες από τις παραδοχές που κάναμε δεν ισχύουν;"
      ]
    },
    {
      "cell_type": "code",
      "metadata": {
        "colab": {
          "base_uri": "https://localhost:8080/"
        },
        "id": "Lz-k1DL-bG9v",
        "outputId": "e0a6b33c-2569-405a-a830-651f95ed6e87"
      },
      "source": [
        "%%time\n",
        "nb = NaiveBayes(x_train_r,y_train)\n",
        "preds = [ nb.predict(i) for i in x_test_r[:100]]"
      ],
      "execution_count": null,
      "outputs": [
        {
          "output_type": "stream",
          "text": [
            "CPU times: user 16 ms, sys: 1.05 ms, total: 17 ms\n",
            "Wall time: 16.2 ms\n"
          ],
          "name": "stdout"
        }
      ]
    },
    {
      "cell_type": "code",
      "metadata": {
        "colab": {
          "base_uri": "https://localhost:8080/"
        },
        "id": "tHoJZC5RbK60",
        "outputId": "3148aa44-74e9-434e-a9a8-0b3c0dbf63bd"
      },
      "source": [
        "%%time\n",
        "gnb = GaussianNB()\n",
        "y_pred = gnb.fit(x_train, y_train).predict(x_test[:100])"
      ],
      "execution_count": null,
      "outputs": [
        {
          "output_type": "stream",
          "text": [
            "CPU times: user 314 ms, sys: 4.92 ms, total: 319 ms\n",
            "Wall time: 322 ms\n"
          ],
          "name": "stdout"
        }
      ]
    },
    {
      "cell_type": "markdown",
      "metadata": {
        "id": "SAmP4BrCbOB9"
      },
      "source": [
        "## Σχολιασμός\n",
        "<εδώ γράφετε τυχόν σχόλια και παρατηρήσεις που έχετε στο τρίτο μέρος: παραδοχές, επίδοση, χρόνος εκτέλεσης, επίδραση στρογγυλοποίησης/υπόθεσης κατανομής κλπ. >"
      ]
    },
    {
      "cell_type": "markdown",
      "metadata": {
        "id": "Vvw-OUkjbRb9"
      },
      "source": [
        "#4ο Μέρος: Multi-Layer Perceptron \n",
        "\n",
        "Σε αυτό το σημείο της άσκησης θα επιλύσετε το παραπάνω πρόβλημα κατασκευάζοντας ένα πολύεπίπεδο νευρωνικό δίκτυο. Αρχικά θα υλοποιήσετε το νευρωνικό χωρίς να χρησιμοποιήσετε κάποια έτοιμη κλάση κάποιας βιβλιοθήκης (όπως sckit-learn, keras), ενώ στην συνέχεια θα κατασκευάσετε το ίδιο σύστημα με την χρήση της βιβλιοθήκης sckit-learn. "
      ]
    },
    {
      "cell_type": "markdown",
      "metadata": {
        "id": "vovDwSIPbTiE"
      },
      "source": [
        "Στο παρακάτω κελί κώδικα σας δίνεται η βασική δομή του επιπέδου ενός πολυεπίπεδου νευρωνικού δικτύου. Η παρακάτω κλάση δεν υλοποιεί κάποιο πραγματικό επίπεδο (όπως Dense) αλλά αυτή χρησιμοποιείται για την παρουσίαση των λειτουργιών κάθε επιπέδου.\n",
        "\n",
        "Ουσιαστικά κάθε επίπεδο ενός νευρωνικού δικτύου πρέπει να είναι σε θέση να κάνει: \n",
        "\n",
        "\n",
        "1.   Για μια είσοδο να υπολογίζει την έξοδο κάθε νευρώνα. Αυτό επιτυγχάνεται μέσω της μεθόδου forward η όποια δέχεται ως όρισμα μια είσοδο  και επιστρέφει έναν πίνακα με τις εξόδους κάθε νευρώνα του επιπέδου. \n",
        "\n",
        "2.   Να υπολογίζει τις μεταβολές οι όποιες πρέπει να γίνουν στα βάρη κάθε επιπέδου, ανάλογα με το πόσο καλά- κοντινά ήταν τα αποτελέσματα του επιπέδου στα πραγματικά. Η λειτουργία αυτή θα μας βοηθήσει την ανανέωση των βαρών του δικτύου και συνεπώς στην σωστή εκπαίδευσή του. Η λειτουργικότητα αυτή επιτυγχάνεται μέσω της μεθόδου backward. \n",
        "\n",
        "  \n",
        "\n",
        "Η λειτουργικότητα συνεπώς κάθε επιπέδου καθορίζεται από την συνάρτηση που υλοποιείται στην μέθοδο forward. Ένα instance της παρακάτω κλάσης συνεπώς  επιστρέφει ως έξοδο την είσοδο κάθε νευρώνα (ταυτοτική συνάρτηση) όποτε δεν προσφέρει κάποια υψηλή λειτουργικότητα. Στην παρακάτω κλάση δεν έχετε να προσθέσετε κάτι, απλά να μελετήσετε και να καταλάβετε την δομή που πρέπει να έχει ένα επίπεδο. "
      ]
    },
    {
      "cell_type": "code",
      "metadata": {
        "id": "jgx1VIMmbMQP"
      },
      "source": [
        "class Layer:\n",
        "    def __init__(self):\n",
        "        \"\"\"Here we can initialize layer parameters (if any) and auxiliary stuff.\"\"\"\n",
        "        # A dummy layer does nothing\n",
        "        pass\n",
        "    \n",
        "    def forward(self, input):\n",
        "        \"\"\"\n",
        "        Takes input data of shape [batch, input_units], returns output data [batch, output_units]\n",
        "        \"\"\"\n",
        "        # A dummy layer just returns whatever it gets as input.\n",
        "        return input\n",
        "\n",
        "    def backward(self, input, grad_output):\n",
        "        # The gradient of a dummy layer is precisely grad_output, but we'll write it more explicitly\n",
        "        num_units = input.shape[1]\n",
        "        \n",
        "        d_layer_d_input = np.eye(num_units)\n",
        "        \n",
        "        return np.dot(grad_output, d_layer_d_input) # chain rule"
      ],
      "execution_count": null,
      "outputs": []
    },
    {
      "cell_type": "markdown",
      "metadata": {
        "id": "r1iQCroAbV-F"
      },
      "source": [
        "Στο σημείο αυτό αξίζει να αναφερθεί ότι για την σωστή εκπαίδευση του δικτύου (σε πρακτικό επίπεδο) πρέπει να διαχωριστεί η έξοδος κάθε νευρώνα πριν και μετά την συνάρτηση ενεργοποίησης. Έτσι η παραπάνω μέθοδος forward της κλάσης layer πρέπει να υπολογίζει την έξοδο του επιπέδου χωρίς την συνάρτηση ενεργοποίησης και κάποια άλλη κλάση να υπολογίζει το αποτέλεσμα με αυτή.  \n",
        "\n",
        "  \n",
        "\n",
        "Έκτος όμως από την εκπαίδευση του δικτύου, ο διαχωρισμός αυτός μας βοηθά σημαντικά και κατά την φάση σχεδιασμού της  αρχιτεκτονικής μιας και μας δίνει την δυνατότητα να αλλάζουμε την συνάρτηση ενεργοποίησης χωρίς κάθε φόρα να πρέπει να αλλάξουμε ολόκληρη την κλάση layer. Για τους παραπάνω λόγους θα χειριζόμαστε την συνάρτηση ενεργοποίησης σαν ένα ξεχωριστό επίπεδο με τις δικές της μεθόδους: forward, backward.  \n",
        "\n",
        "  \n",
        "\n",
        "Παρακάτω παρουσιάζεται η κλάση η όποια υλοποιεί την λειτουργικότητα της συνάρτησης ενεργοποίησης [ReLU](https://en.wikipedia.org/wiki/Rectifier_(neural_networks)).  \n",
        "\n",
        "  \n",
        "\n",
        "Με την ίδια λογική μπορούμε να υλοποιήσουμε οποιαδήποτε άλλη συνάρτηση ενεργοποίησης θέλουμε π.χ. sigmoid, tanh κ.ο.κ. και επιπλέον μπορούμε να τις εναλλάσσουμε μεταξύ επιπέδων χωρίς δυσκολία. "
      ]
    },
    {
      "cell_type": "code",
      "metadata": {
        "id": "6P33228VbYIf"
      },
      "source": [
        "class ReLU(Layer):\n",
        "    def __init__(self):\n",
        "        \"\"\"ReLU layer simply applies elementwise rectified linear unit to all inputs\"\"\"\n",
        "        pass\n",
        "    \n",
        "    def forward(self, input):\n",
        "        \"\"\"Apply elementwise ReLU to [batch, input_units] matrix\"\"\"\n",
        "        relu_forward = np.maximum(0,input)\n",
        "        return relu_forward\n",
        "    \n",
        "    def backward(self, input, grad_output):\n",
        "        \"\"\"Compute gradient of loss w.r.t. ReLU input\"\"\"\n",
        "        relu_grad = input > 0\n",
        "        return grad_output*relu_grad"
      ],
      "execution_count": null,
      "outputs": []
    },
    {
      "cell_type": "markdown",
      "metadata": {
        "id": "Rrrub_76ba19"
      },
      "source": [
        "Η κλάση Dense υλοποιεί ένα επίπεδο dense όπου η έξοδος κάθε νευρώνα (χωρίς τη  συνάρτηση ενεργοποίησης) υπολογίζεται από την παρακάτω εξίσωση: \n",
        "\n",
        "  \n",
        "\n",
        "  \n",
        "\n",
        "$$ z(x) = w^Τx + b $$ \n",
        "\n",
        "  \n",
        "\n",
        "όπου $w$, $b$ είναι τα βάρη του επιπέδου.   \n",
        "\n",
        "  \n",
        "\n",
        "Συνεπώς το δίκτυο είναι απαραίτητοί να διατηρεί 2 τους δυο πίνακες με τα βάρη οι όποιο στην μέθοδο forward θα χρησιμοποιούνται για τον υπολογισμό της εξόδου και θα ανανεώνονται από την μέθοδο backward. Οι πίνακες αυτοί δημιουργούνται κατά την κατασκευή κάθε στιγμιότυπου και αρχικοποιούνται, ο πρώτος τυχαία και ο δεύτερος με μηδενικά.  Στο σημείο αυτό καλείστε να συμπληρώσετε την μέθοδο forward με κατάλληλο τρόπο ώστε να επιτυγχάνεται επιθυμητή λειτουργικότητα. "
      ]
    },
    {
      "cell_type": "code",
      "metadata": {
        "id": "HEnuIuOHbZge"
      },
      "source": [
        "class Dense(Layer):\n",
        "    def __init__(self, input_units, output_units, learning_rate=0.1):\n",
        "        \"\"\"\n",
        "        Weight Initialization\n",
        "        \"\"\"\n",
        "        self.input_units = input_units\n",
        "        self.output_units = output_units\n",
        "        \n",
        "        self.learning_rate = learning_rate\n",
        "        self.weights = np.random.normal(loc=0.0, \n",
        "                                        scale = np.sqrt(2/(input_units+output_units)), \n",
        "                                        size = (input_units,output_units))\n",
        "        self.biases = np.zeros(output_units)\n",
        "        \n",
        "    def forward(self,input):\n",
        "        \"\"\"\n",
        "        Perform an affine transformation:\n",
        "        f(x) = <W*x> + b\n",
        "        \n",
        "        input shape: [number of inputs, input units]\n",
        "        output shape: [number of inputs, output units]\n",
        "        \"\"\"\n",
        "        ###################\n",
        "        ## Your code below\n",
        "        ## hint: numpy.dot\n",
        "\n",
        "\n",
        "        \n",
        "        ## Your code above\n",
        "        ##################\n",
        "        return output\n",
        "    \n",
        "    def backward(self,input,grad_output):\n",
        "        # compute d f / d x = d f / d dense * d dense / d x\n",
        "        # where d dense/ d x = weights transposed\n",
        "        grad_input = np.dot(grad_output, self.weights.T)\n",
        "        \n",
        "        # compute gradient w.r.t. weights and biases\n",
        "        grad_weights = np.dot(input.T, grad_output)\n",
        "        grad_biases = grad_output.mean(axis=0)*input.shape[0]\n",
        "        \n",
        "        assert grad_weights.shape == self.weights.shape and grad_biases.shape == self.biases.shape\n",
        "        \n",
        "        # Here we perform a stochastic gradient descent step. \n",
        "        self.weights = self.weights - self.learning_rate * grad_weights\n",
        "        self.biases = self.biases - self.learning_rate * grad_biases\n",
        "        \n",
        "        return grad_input"
      ],
      "execution_count": null,
      "outputs": []
    },
    {
      "cell_type": "markdown",
      "metadata": {
        "id": "Ml2jvLeybeRe"
      },
      "source": [
        "Οι παρακάτω συναρτήσεις χρησιμοποιούνται για να μπορεί το δίκτυο να ελέγχει πόσο κοντά βρίσκονται τα αποτελέσματα του στα πραγματικά (Loss function). Όπως είναι λογικό υπάρχουν διαφορετικές τέτοιες συναρτήσεις ανάλογα το πρόβλημα που καλείται να λύσει το δίκτυο. Η παρακάτω συνάρτηση ονομάζεται [softmax](https://en.wikipedia.org/wiki/Softmax_function) και χρησιμοποιείται κατά κύριο λόγο σε προβλήματα ταξινόμησης όπως το συγκεκριμένο. Η softmax δέχεται σαν είσοδο τις ενεργοποιήσεις του τελευταίου επιπέδου και επιστρέφει μια κατανομή πιθανοτήτων για κάθε μια από τις κλάσεις εξόδου (π.χ. κλάση 0 έχει πιθανότητα 0.001,  η κλάση 1 έχει 0.9 κ.ο.κ.).  "
      ]
    },
    {
      "cell_type": "code",
      "metadata": {
        "id": "qT7nl_1Gbc0B"
      },
      "source": [
        "def softmax_crossentropy_with_logits(logits,reference_answers):\n",
        "    \"\"\"Compute crossentropy from logits[batch,n_classes] and ids of correct answers\"\"\"\n",
        "    logits_for_answers = logits[np.arange(len(logits)),reference_answers]\n",
        "    xentropy = - logits_for_answers + np.log(np.sum(np.exp(logits),axis=-1))\n",
        "    return xentropy\n",
        "\n",
        "def grad_softmax_crossentropy_with_logits(logits,reference_answers):\n",
        "    \"\"\"Compute crossentropy gradient from logits[batch,n_classes] and ids of correct answers\"\"\"\n",
        "    ones_for_answers = np.zeros_like(logits)\n",
        "    ones_for_answers[np.arange(len(logits)),reference_answers] = 1\n",
        "    \n",
        "    softmax = np.exp(logits) / np.exp(logits).sum(axis=-1,keepdims=True)\n",
        "    \n",
        "    return (- ones_for_answers + softmax) / logits.shape[0]"
      ],
      "execution_count": null,
      "outputs": []
    },
    {
      "cell_type": "markdown",
      "metadata": {
        "id": "5XnSJjxYbhdX"
      },
      "source": [
        "Έχοντας υλοποιήσει τις κλάσεις Dense και ReLU μπορούμε πλέον να κατασκευάσουμε μια κλάση η όποια θα ορίζει ένα πολυεπίπεδο νευρωνικό δίκτυο (MLP). Το δίκτυο αυτό ουσιαστικά αποτελείται από μια ακολουθία Dense επιπέδων όπου το κάθε ένα (εκτός του τελευταίου) ακολουθείται από μια μη-γραμμική συνάρτηση ενεργοποίησης (ReLU). Όμοια με πριν, η κλάση αυτή πρέπει να περιέχει μια μέθοδο forward η όποια θα δέχεται μια είσοδο (εδώ μια εικόνα flatten) και θα επιστρέφει μια έξοδο (εδώ μια κατανομή 10 πιθανοτήτων). Παράλληλα πρέπει να περιέχει και μια μέθοδο fit, η όποια θα εκπαιδεύει το δίκτυο δεδομένου ενός τέτοιου συνόλου (εδώ του x_train). Στο σημείο αυτό χρησιμοποιούνται οι μέθοδοι backward που έχουν οριστεί για κάθε ένα επίπεδο (δεν χρειάζεται να συμπληρώσετε κάτι).  Τέλος θα ήταν βοηθητικό να έχουμε και μια μέθοδο η όποια θα μετατρέπει την κατανομή εξόδου στην επιστρεφόμενη κλάση (predict) για κάποιο ή κάποια στιγμιότυπα του συνόλου δεδομένων.   \n",
        "\n",
        "Το δίκτυο όπως αναφέρθηκε και προηγουμένως αποτελείται από έναν αριθμό Dense επιπέδων κάθε ένα από τα όποια ακολουθείται από μια συνάρτηση ReLU. Η κατασκευή των επιπέδων γίνεται κατά την στιγμή δημιουργίας του δικτύου, όπου δίνεται ως είσοδος μια λίστα με το μέγεθος κάθε επιπέδου, μαζί με το μέγεθος εισόδου (εδώ 28*28). Έτσι για παράδειγμα η παρακάτω γραμμή κώδικα:  \n",
        "``` \n",
        "net = MLP([100, 200, 100, 10], 784)  \n",
        "```  \n",
        "κατασκευάζει ένα MLP το όποιο αποτελείται από 4 επίπεδα με μέγεθος 100, 200, 100, 10. Ο αριθμός των επιπέδων καθώς και του μεγέθους καθενός από αυτά είναι ελεύθερος να οριστεί από τον χρήστη.   \n",
        "Στον constructor της κλάσης ουσιαστικά ορίζεται μια λίστα η όποια περιέχει κάθε ένα από τα επίπεδα που πρέπει να οριστούν, π.χ. για το παραπάνω παράδειγμα η μεταβλητή net.network περιέχει τα εξής στιγμιότυπα των κλάσεων:  \n",
        "\n",
        "``` \n",
        "[Dense(100), ReLU(), Dense(200), ReLU(), Dense(100), ReLU(), Dense(10)]  \n",
        "```  \n",
        "\n",
        "Συνεπώς η λειτουργικότητα του δικτύου όπως και πριν πρέπει να οριστεί στην μέθοδο forward. Στο σημείο αυτό καλείστε να συμπληρώσετε την μέθοδο αυτή έτσι ώστε το δίκτυο να λειτουργεί όπως πρέπει, δηλαδή στο παράδειγμά μας η είσοδος να περνά από το επίπεδο Dense(100), μετά από το ReLU(), στην συνέχεια από το Dense(200) κ.ο.κ. μέχρι και το τελευταίο επίπεδο.  Ο αλγόριθμος αυτός παρουσιάζεται και σε ψευδοκώδικα στην διαφάνεια 33 του μαθήματος. "
      ]
    },
    {
      "cell_type": "code",
      "metadata": {
        "id": "MHHcg1unbf21"
      },
      "source": [
        "class MLP:\n",
        "    def __init__(self, shapes, input_dim):\n",
        "        '''\n",
        "        Κατασκευή του MLP. Τα επίπεδα και το μέγεθός τους ορίζεται από την μεταβλήτη shape, ενώ\n",
        "        το μέγεθος της εισόδου ορίζεται από την μεταβλήτη input_dim\n",
        "        '''\n",
        "        self.shapes = shapes\n",
        "        self.network = [Dense(input_dim, shapes[0])]\n",
        "        self.network.append(ReLU())\n",
        "        for i in range(1, len(self.shapes) - 1):\n",
        "            self.network.append(Dense(shapes[i-1],shapes[i]))\n",
        "            self.network.append(ReLU())\n",
        "        self.network.append(Dense(shapes[i],shapes[-1]))\n",
        "\n",
        "    def forward(self, X):\n",
        "        \"\"\"\n",
        "        Αγόριθμος διφάνειας 33\n",
        "        \"\"\"\n",
        "        activations = []\n",
        "        input = X\n",
        "        # Looping through each layer\n",
        "        for l in self.network:\n",
        "            ###################\n",
        "            ## Your code below\n",
        "            # hint: τροφοδοτούμε την έξοδο κάθε επιπέδου στο επόμενο\n",
        "            \n",
        "            pass\n",
        "\n",
        "            ## Your code above\n",
        "            ##################        \n",
        "        assert len(activations) == len(self.network)\n",
        "        return activations\n",
        "\n",
        "    def predict(self,X):\n",
        "        \"\"\"\n",
        "        Προβλέπει την έξοδο του δικτύου για ένα ή περισσότερα στιγμιότυπα εισόδου\n",
        "        \"\"\"\n",
        "        logits = self.forward(X)[-1]\n",
        "        return logits.argmax(axis=-1)\n",
        "\n",
        "    def fit(self, X, y):\n",
        "        # Get the layer activations\n",
        "        layer_activations = self.forward(X)\n",
        "        layer_inputs = [X]+layer_activations  #layer_input[i] is an input for network[i]\n",
        "        logits = layer_activations[-1]\n",
        "        \n",
        "        # Compute the loss and the initial gradient\n",
        "        loss = softmax_crossentropy_with_logits(logits,y)\n",
        "        loss_grad = grad_softmax_crossentropy_with_logits(logits,y)\n",
        "        \n",
        "        # Propagate gradients through the network\n",
        "        # Reverse propogation as this is backprop\n",
        "        for layer_index in range(len(self.network))[::-1]:\n",
        "            layer = self.network[layer_index]\n",
        "            loss_grad = layer.backward(layer_inputs[layer_index],loss_grad) #grad w.r.t. input, also weight updates\n",
        "        return np.mean(loss)"
      ],
      "execution_count": null,
      "outputs": []
    },
    {
      "cell_type": "markdown",
      "metadata": {
        "id": "6zCBcKqvbm4t"
      },
      "source": [
        "## Αξιολόγηση ενός Multi-Layer Perceptron\n",
        "\n",
        "Αφού έχουμε κατασκευάσει τα παραπάνω είμαστε πλέον σε θέση να εκπαιδεύσουμε το MLP. Αυτό γίνεται καλώντας την μέθοδο fit. Στο παρακάτω κελί κώδικα ορίζεται το MLP του παραπάνω παραδείγματος και εκπαιδεύεται για 25 εποχές. Στο τέλος κάθε εποχής παρουσιάζονται τα αποτελέσματα του μαζί με μια γραφική των train και test accuracy. "
      ]
    },
    {
      "cell_type": "code",
      "metadata": {
        "id": "4jw-8qN6bjQG"
      },
      "source": [
        "from IPython.display import clear_output\n",
        "import numpy as np\n",
        "\n",
        "network = MLP([100, 200, 100, 10], 28*28)\n",
        "\n",
        "train_log = []\n",
        "val_log = []\n",
        "\n",
        "#Αυτά πρέπει να τρέχουν αφού έχετε φτιάξει σωστά τον κώδικα της MLP\n",
        "# for epoch in range(25):\n",
        "#     # network.fit(x_train,y_train)\n",
        "    \n",
        "#     train_log.append(np.mean(network.predict(x_train)==y_train))\n",
        "#     val_log.append(np.mean(network.predict(x_test)==y_test))\n",
        "    \n",
        "#     clear_output()\n",
        "#     print(\"Epoch\",epoch)\n",
        "#     print(\"Train accuracy:\",train_log[-1])\n",
        "#     print(\"Val accuracy:\",val_log[-1])\n",
        "#     plt.plot(train_log,label='train accuracy')\n",
        "#     plt.plot(val_log,label='val accuracy')\n",
        "#     plt.legend(loc='best')\n",
        "#     plt.grid()\n",
        "#     plt.show()\n",
        "\n",
        "# y_pred = network.predict(x_test)\n",
        "\n",
        "# eval = Evaluate(y_test, y_pred, x_test)\n",
        "# eval.get_evaluation_report()"
      ],
      "execution_count": null,
      "outputs": []
    },
    {
      "cell_type": "markdown",
      "metadata": {
        "id": "ygud3NX3b-wN"
      },
      "source": [
        "## Έτοιμο Multi-Layer Perceptron \n",
        "\n",
        "Όπως και με τις τεχνικές των παραπάνω ερωτημάτων έτσι και εδώ υπάρχει έτοιμη η παραπάνω κλάση σε διάφορες βιβλιοθήκες. Έτσι στο δεύτερο μέρος του ερωτήματος αυτού θα κατασκευάσετε το ίδιο MLP χρησιμοποιώντας όμως την έτοιμη κλάση [MLPClassifier](https://scikit-learn.org/stable/modules/generated/sklearn.neural_network.MLPClassifier.html)  της βιβλιοθήκης scikit-learn. Παρακάτω παρουσιάζεται ένα παράδειγμα χρήσης της κλάσης αυτής. "
      ]
    },
    {
      "cell_type": "code",
      "metadata": {
        "colab": {
          "base_uri": "https://localhost:8080/",
          "height": 942
        },
        "id": "hltXBE2Vbojo",
        "outputId": "7362dd52-9d50-45bd-e396-2b7c85abcffe"
      },
      "source": [
        "from sklearn.neural_network import MLPClassifier\n",
        "\n",
        "epochs = 25\n",
        "mlp = MLPClassifier(hidden_layer_sizes=(100, 200, 100), max_iter = epochs)\n",
        "\n",
        "mlp.fit(x_train,y_train)\n",
        "\n",
        "y_pred = mlp.predict(x_test)\n",
        "eval = Evaluate(y_test, y_pred, x_test)\n",
        "eval.get_evaluation_report()"
      ],
      "execution_count": null,
      "outputs": [
        {
          "output_type": "stream",
          "text": [
            "/usr/local/lib/python3.6/dist-packages/sklearn/neural_network/_multilayer_perceptron.py:571: ConvergenceWarning: Stochastic Optimizer: Maximum iterations (25) reached and the optimization hasn't converged yet.\n",
            "  % self.max_iter, ConvergenceWarning)\n"
          ],
          "name": "stderr"
        },
        {
          "output_type": "stream",
          "text": [
            "precision : 0.9638783073533835\n",
            "recall : 0.9637190147373419\n",
            "f1 : 0.9635950496942032\n",
            "accuracy : 1\n",
            "Confusion matrix: \n",
            "[[ 965    0    1    1    1    1    4    1    1    5]\n",
            " [   0 1124    3    3    0    0    2    2    1    0]\n",
            " [   3    1 1010    1    6    0    3    5    2    1]\n",
            " [   4    4   15  931    2   39    1    6    5    3]\n",
            " [   1    1    3    0  954    0    4    0    2   17]\n",
            " [   6    0    1    4    3  859   13    0    3    3]\n",
            " [   8    3    2    1    6    3  933    0    1    1]\n",
            " [   0    4   11    4    1    0    0  988    1   19]\n",
            " [   7    3   11    8    8    8   12   13  898    6]\n",
            " [   1    3    2    9    7    2    1    3    2  979]]\n",
            "Some images with wrong predictions\n"
          ],
          "name": "stdout"
        },
        {
          "output_type": "display_data",
          "data": {
            "image/png": "[encoded data removed]",
            "text/plain": [
              "<Figure size 720x720 with 20 Axes>"
            ]
          },
          "metadata": {
            "tags": [],
            "needs_background": "light"
          }
        }
      ]
    },
    {
      "cell_type": "markdown",
      "metadata": {
        "id": "DOQYML9wcDBk"
      },
      "source": [
        "## Σύγκριση υλοποιήσεων \n",
        "\n",
        "  \n",
        "\n",
        "Στα παρακάτω κελιά πειραματιστείτε με τις δύο υλοποιήσεις (τη δική σας και την έτοιμη). Συγκρίνετε τα αποτελέσματά σας τόσο ως προς τους χρόνους εκτέλεσης αλλά και ως προς τα αποτελέσματα. Η διαφορά των αποτελεσμάτων προκύπτει από το ότι στην έτοιμη κλάση έχουν γίνει αρκετές βελτιστοποιήσεις στην λειτουργία, στον τρόπο εκπαίδευσης κ.α. με αποτέλεσμα να προκύπτουν καλύτερα αποτέλεσμα. Παρόλα αυτά στην δική μας κλάση έχουμε καλύτερο έλεγχο και έχουμε την δυνατότητα να σχεδιάσουμε πιο σύνθετες αρχιτεκτονικές καθώς να αλλάξουμε τις τιμές παραμέτρων που στην έτοιμη κλάση μπορεί να μην μας δίνεται η δυνατότητα. "
      ]
    },
    {
      "cell_type": "markdown",
      "metadata": {
        "id": "gfrx064gcCr8"
      },
      "source": [
        "# Αξιολόγηση- Συμπεράσματα \n",
        "\n",
        "  \n",
        "\n",
        "Τέλος στο σημείο αυτό καλείστε να αξιολογήσετε τις διάφορες τεχνικές ταξινόμησης (KNN, Naive Bayes, MLP), τα αποτελέσματά τους, τους χρόνους καθώς και να παραθέσετε παρατηρήσεις καθώς και οτιδήποτε σας φάνηκε ενδιαφέρον ή ιδιαίτερο. "
      ]
    }
  ]
}